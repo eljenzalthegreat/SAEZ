{
 "cells": [
  {
   "cell_type": "markdown",
   "id": "de45816b-5d52-4da9-a1ca-f08f9a793ca7",
   "metadata": {},
   "source": [
    "Eljenzal Hoper U. Saez"
   ]
  },
  {
   "cell_type": "markdown",
   "id": "8e3e666e-2cdb-49d7-b9e4-8d650f5e36a3",
   "metadata": {},
   "source": [
    "2ECE - C"
   ]
  },
  {
   "cell_type": "markdown",
   "id": "8aa5cf99-6ae9-417b-925d-e819cb5511dd",
   "metadata": {},
   "source": [
    "*1. Alphabet Soup Problem*"
   ]
  },
  {
   "cell_type": "markdown",
   "id": "c54cce0c-4f9a-41b4-832f-f057e748f744",
   "metadata": {},
   "source": [
    "Define the variable"
   ]
  },
  {
   "cell_type": "code",
   "execution_count": 368,
   "id": "44e072ee-4c49-4df2-a725-194aad57430b",
   "metadata": {},
   "outputs": [],
   "source": [
    "def alphabet_soup(s):\n",
    "    return ''.join(sorted(s))\n",
    "    print(result) "
   ]
  },
  {
   "cell_type": "markdown",
   "id": "aa4aaba6-a543-4f99-a7a6-e360a0836221",
   "metadata": {},
   "source": [
    "Testing the code:"
   ]
  },
  {
   "cell_type": "code",
   "execution_count": 371,
   "id": "834b72cb-2c98-40d0-b6f6-2e51af408f28",
   "metadata": {},
   "outputs": [
    {
     "name": "stdout",
     "output_type": "stream",
     "text": [
      "abeejlmnors\n"
     ]
    }
   ],
   "source": [
    "print(alphabet_soup(\"lebronjames\"))"
   ]
  },
  {
   "cell_type": "code",
   "execution_count": 373,
   "id": "23e1ff82-fae6-4a1a-b00f-4d04451be988",
   "metadata": {},
   "outputs": [
    {
     "name": "stdout",
     "output_type": "stream",
     "text": [
      "abbeknorty\n"
     ]
    }
   ],
   "source": [
    "print(alphabet_soup(\"kobebryant\"))"
   ]
  },
  {
   "cell_type": "code",
   "execution_count": 375,
   "id": "40721b12-2e68-4ee5-9597-2d07157bc574",
   "metadata": {},
   "outputs": [
    {
     "name": "stdout",
     "output_type": "stream",
     "text": [
      "eghllosuy\n"
     ]
    }
   ],
   "source": [
    "print(alphabet_soup(\"helloguys\"))"
   ]
  },
  {
   "cell_type": "markdown",
   "id": "9508468f-cd6d-4197-b432-a8731fd6b445",
   "metadata": {},
   "source": [
    "*2. Emoticon Problem*"
   ]
  },
  {
   "cell_type": "code",
   "execution_count": 378,
   "id": "390996f1-7a8e-4c1b-bd41-8ff5afd88680",
   "metadata": {},
   "outputs": [],
   "source": [
    "def emotify(sentence):\n",
    "    # Define yung words to emoticons\n",
    "    emoticons = {\n",
    "        'smile': ':)',\n",
    "        'grin': ':D',\n",
    "        'sad': ':(((',\n",
    "        'mad': '>:(('\n",
    "    }\n",
    "    \n",
    "    for word, emoticon in emoticons.items():\n",
    "        # Replace word with the corresponding emoticon\n",
    "        sentence = sentence.replace(word, emoticon)\n",
    "    \n",
    "    return sentence\n"
   ]
  },
  {
   "cell_type": "markdown",
   "id": "90769827-6791-4551-995b-c6d968d82eea",
   "metadata": {},
   "source": [
    "Testing the Code:"
   ]
  },
  {
   "cell_type": "code",
   "execution_count": 381,
   "id": "17336e97-6bb8-4145-bdff-8dc37e5a7275",
   "metadata": {},
   "outputs": [
    {
     "name": "stdout",
     "output_type": "stream",
     "text": [
      "Make me :)\n"
     ]
    }
   ],
   "source": [
    "print(emotify(\"Make me smile\"))"
   ]
  },
  {
   "cell_type": "code",
   "execution_count": 383,
   "id": "42f27f71-5931-4650-a6dd-d0497a87bddc",
   "metadata": {},
   "outputs": [
    {
     "name": "stdout",
     "output_type": "stream",
     "text": [
      "I'm >:((\n"
     ]
    }
   ],
   "source": [
    "print(emotify(\"I'm mad\")) "
   ]
  },
  {
   "cell_type": "code",
   "execution_count": 385,
   "id": "5db2533b-5438-4d27-a7e9-91ad3431ec97",
   "metadata": {},
   "outputs": [
    {
     "name": "stdout",
     "output_type": "stream",
     "text": [
      "I am feeling very :(((\n"
     ]
    }
   ],
   "source": [
    "print(emotify(\"I am feeling very sad\"))"
   ]
  },
  {
   "cell_type": "code",
   "execution_count": 387,
   "id": "bd7241af-98f1-47f7-bff0-11f01007b1c2",
   "metadata": {},
   "outputs": [
    {
     "name": "stdout",
     "output_type": "stream",
     "text": [
      "I love to :D\n"
     ]
    }
   ],
   "source": [
    "print(emotify(\"I love to grin\"))"
   ]
  },
  {
   "cell_type": "markdown",
   "id": "0e8b5883-b25e-46d3-ab75-c6789fe5ca02",
   "metadata": {},
   "source": [
    "*3. Unpacking List Problem*"
   ]
  },
  {
   "cell_type": "code",
   "execution_count": 390,
   "id": "d20db97c-3bb8-499b-a24b-e4c0831a022a",
   "metadata": {},
   "outputs": [],
   "source": [
    "# Define the list\n",
    "lst = [1, 2, 3, 4, 5, 6]\n"
   ]
  },
  {
   "cell_type": "code",
   "execution_count": 392,
   "id": "3f07d5aa-627f-448c-ae86-c5c4a97e1e71",
   "metadata": {},
   "outputs": [],
   "source": [
    "# Unpack the list into three variables\n",
    "first = lst[0]  # First element\n",
    "last = lst[-1]  # Last element\n",
    "middle = lst[1:-1]  # All elements between first and last"
   ]
  },
  {
   "cell_type": "markdown",
   "id": "6d57c387-d0ef-4e11-bc17-2856055523bc",
   "metadata": {},
   "source": [
    "Testing the Code:"
   ]
  },
  {
   "cell_type": "code",
   "execution_count": 395,
   "id": "8becfe2c-94ee-4f3d-b614-805dbd8242c9",
   "metadata": {},
   "outputs": [
    {
     "name": "stdout",
     "output_type": "stream",
     "text": [
      "first: 1\n",
      "middle: [2, 3, 4, 5]\n",
      "last: 6\n"
     ]
    }
   ],
   "source": [
    "# Print the results\n",
    "print(f\"first: {first}\")\n",
    "print(f\"middle: {middle}\")\n",
    "print(f\"last: {last}\")"
   ]
  },
  {
   "cell_type": "code",
   "execution_count": null,
   "id": "e43d0314-d950-4554-8ff9-bbcae3989f68",
   "metadata": {},
   "outputs": [],
   "source": []
  }
 ],
 "metadata": {
  "kernelspec": {
   "display_name": "Python 3 (ipykernel)",
   "language": "python",
   "name": "python3"
  },
  "language_info": {
   "codemirror_mode": {
    "name": "ipython",
    "version": 3
   },
   "file_extension": ".py",
   "mimetype": "text/x-python",
   "name": "python",
   "nbconvert_exporter": "python",
   "pygments_lexer": "ipython3",
   "version": "3.12.4"
  }
 },
 "nbformat": 4,
 "nbformat_minor": 5
}
